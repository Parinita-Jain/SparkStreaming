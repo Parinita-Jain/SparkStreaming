{
  "nbformat": 4,
  "nbformat_minor": 0,
  "metadata": {
    "kernelspec": {
      "display_name": "Python 3",
      "language": "python",
      "name": "python3"
    },
    "language_info": {
      "codemirror_mode": {
        "name": "ipython",
        "version": 3
      },
      "file_extension": ".py",
      "mimetype": "text/x-python",
      "name": "python",
      "nbconvert_exporter": "python",
      "pygments_lexer": "ipython3",
      "version": "3.8.10"
    },
    "colab": {
      "provenance": []
    }
  },
  "cells": [
    {
      "cell_type": "markdown",
      "metadata": {
        "id": "zGqWATQuSTn9"
      },
      "source": [
        "# Window Operations Demo"
      ]
    },
    {
      "cell_type": "markdown",
      "metadata": {
        "id": "cR_Vo54mSToA"
      },
      "source": [
        "Spark Streaming provides windowed computations, which allow you to apply transformations over a sliding window of data. The following figure illustrates this sliding window.\n",
        "\n",
        "![Spark Streaming Data Flow](https://spark.apache.org/docs/latest/img/streaming-dstream-window.png)\n",
        "\n",
        "As shown in the figure, every time the window slides over a source DStream, the source RDDs that fall within the window are combined and operated upon to produce the RDDs of the windowed DStream. In this specific case, the operation is applied over the last 3 time units of data, and slides by 2 time units. This shows that any window operation needs to specify two parameters\n",
        "\n",
        "* window length - The duration of the window (3 in the figure).\n",
        "* sliding interval - The interval at which the window operation is performed (2 in the figure).\n",
        "\n",
        "These two parameters must be multiples of the batch interval of the source DStream (1 in the figure).\n",
        "<p>\n",
        "Some of the common window operations are as follows. All of these operations take the said two parameters - windowLength and slideInterval.\n",
        "\n",
        "\n",
        "| Transformation        | Meaning           |\n",
        "| -------------:|:-------------|\n",
        "| **window**(windowLength, slideInterval)      | Return a new DStream which is computed based on windowed batches of the source DStream. |\n",
        "| **countByWindow**(windowLength, slideInterval)     | Return a sliding window count of elements in the stream.     |\n",
        "| **reduceByWindow**(func, windowLength, slideInterval) | Return a new single-element stream, created by aggregating elements in the stream over a sliding interval using func. The function should be associative and commutative so that it can be computed correctly in parallel.     |\n",
        "| **reduceByKeyAndWindow**(func, windowLength, slideInterval, [numTasks])     | When called on a DStream of (K, V) pairs, returns a new DStream of (K, V) pairs where the values for each key are aggregated using the given reduce function func over batches in a sliding window. Note: By default, this uses Spark's default number of parallel tasks (2 for local mode, and in cluster mode the number is determined by the config property spark.default.parallelism) to do the grouping. You can pass an optional numTasks argument to set a different number of tasks. |\n",
        "| **reduceByKeyAndWindow**(func, invFunc, windowLength, slideInterval, [numTasks])      | A more efficient version of the above reduceByKeyAndWindow() where the reduce value of each window is calculated incrementally using the reduce values of the previous window. This is done by reducing the new data that enters the sliding window, and “inverse reducing” the old data that leaves the window. An example would be that of “adding” and “subtracting” counts of keys as the window slides. However, it is applicable only to “invertible reduce functions”, that is, those reduce functions which have a corresponding “inverse reduce” function (taken as parameter invFunc). Like in reduceByKeyAndWindow, the number of reduce tasks is configurable through an optional argument. Note that checkpointing must be enabled for using this operation.      |\n",
        "| **countByValueAndWindow**(windowLength, slideInterval, [numTasks]) | When called on a DStream of (K, V) pairs, returns a new DStream of (K, Long) pairs where the value of each key is its frequency within a sliding window. Like in reduceByKeyAndWindow, the number of reduce tasks is configurable through an optional argument.      |"
      ]
    },
    {
      "cell_type": "markdown",
      "metadata": {
        "id": "SLrrG9VYSToC"
      },
      "source": [
        "### Demo"
      ]
    },
    {
      "cell_type": "code",
      "metadata": {
        "id": "GQ_BsTqOSToD"
      },
      "source": [
        "'''\n",
        "import findspark\n",
        "# TODO: your path will likely not have 'matthew' in it. Change it to reflect your path.\n",
        "findspark.init('/home/siddharth/spark-2.1.0-bin-hadoop2.7')\n",
        "'''"
      ],
      "execution_count": null,
      "outputs": []
    },
    {
      "cell_type": "code",
      "source": [
        "!pip install pyspark"
      ],
      "metadata": {
        "colab": {
          "base_uri": "https://localhost:8080/"
        },
        "id": "KHlbu97D30dN",
        "outputId": "3a6917b0-b109-4f03-a65f-9978819b278f"
      },
      "execution_count": 1,
      "outputs": [
        {
          "output_type": "stream",
          "name": "stdout",
          "text": [
            "Looking in indexes: https://pypi.org/simple, https://us-python.pkg.dev/colab-wheels/public/simple/\n",
            "Collecting pyspark\n",
            "  Downloading pyspark-3.3.2.tar.gz (281.4 MB)\n",
            "\u001b[2K     \u001b[90m━━━━━━━━━━━━━━━━━━━━━━━━━━━━━━━━━━━━━━━\u001b[0m \u001b[32m281.4/281.4 MB\u001b[0m \u001b[31m5.0 MB/s\u001b[0m eta \u001b[36m0:00:00\u001b[0m\n",
            "\u001b[?25h  Preparing metadata (setup.py) ... \u001b[?25l\u001b[?25hdone\n",
            "Collecting py4j==0.10.9.5\n",
            "  Downloading py4j-0.10.9.5-py2.py3-none-any.whl (199 kB)\n",
            "\u001b[2K     \u001b[90m━━━━━━━━━━━━━━━━━━━━━━━━━━━━━━━━━━━━━━\u001b[0m \u001b[32m199.7/199.7 KB\u001b[0m \u001b[31m18.7 MB/s\u001b[0m eta \u001b[36m0:00:00\u001b[0m\n",
            "\u001b[?25hBuilding wheels for collected packages: pyspark\n",
            "  Building wheel for pyspark (setup.py) ... \u001b[?25l\u001b[?25hdone\n",
            "  Created wheel for pyspark: filename=pyspark-3.3.2-py2.py3-none-any.whl size=281824025 sha256=47244360e86d2bd3900fdca827ab9a0b193f658d9cc56b0dd6eee1d5eb98aaa0\n",
            "  Stored in directory: /root/.cache/pip/wheels/6c/e3/9b/0525ce8a69478916513509d43693511463c6468db0de237c86\n",
            "Successfully built pyspark\n",
            "Installing collected packages: py4j, pyspark\n",
            "Successfully installed py4j-0.10.9.5 pyspark-3.3.2\n"
          ]
        }
      ]
    },
    {
      "cell_type": "code",
      "metadata": {
        "id": "h67jalHUSToE"
      },
      "source": [
        "from pyspark import SparkContext\n",
        "from pyspark.streaming import StreamingContext"
      ],
      "execution_count": 2,
      "outputs": []
    },
    {
      "cell_type": "code",
      "metadata": {
        "id": "wZFJCNZWSToE"
      },
      "source": [
        "sc = SparkContext(master=\"local[2]\", appName=\"WindowWordcount\")\n",
        "ssc = StreamingContext(sc, 1)\n",
        "ssc.checkpoint(\"checkpoint\")"
      ],
      "execution_count": 3,
      "outputs": []
    },
    {
      "cell_type": "code",
      "metadata": {
        "id": "RHbG9bg4SToF"
      },
      "source": [
        "lines = ssc.socketTextStream(\"localhost\", 9990)"
      ],
      "execution_count": 7,
      "outputs": []
    },
    {
      "cell_type": "code",
      "metadata": {
        "id": "Pz0P6yB5SToF"
      },
      "source": [
        "words = lines.flatMap(lambda line: line.split(\" \"))\n",
        "pairs = words.map(lambda word: (word, 1))\n",
        "pairs.window(30, 10).pprint()"
      ],
      "execution_count": 6,
      "outputs": []
    },
    {
      "cell_type": "code",
      "metadata": {
        "id": "H1ZBWNjHSToF",
        "outputId": "ca6f153b-6089-401a-d207-45f7b53eb39c"
      },
      "source": [
        "ssc.start()"
      ],
      "execution_count": null,
      "outputs": [
        {
          "name": "stdout",
          "output_type": "stream",
          "text": [
            "-------------------------------------------\n",
            "Time: 2018-02-08 22:52:53\n",
            "-------------------------------------------\n",
            "\n",
            "-------------------------------------------\n",
            "Time: 2018-02-08 22:53:03\n",
            "-------------------------------------------\n",
            "('hello', 1)\n",
            "\n",
            "-------------------------------------------\n",
            "Time: 2018-02-08 22:53:13\n",
            "-------------------------------------------\n",
            "('hello', 1)\n",
            "('hello', 1)\n",
            "('hello', 1)\n",
            "('hello', 1)\n",
            "('hello', 1)\n",
            "('hello', 1)\n",
            "('hello', 1)\n",
            "\n",
            "-------------------------------------------\n",
            "Time: 2018-02-08 22:53:23\n",
            "-------------------------------------------\n",
            "('hello', 1)\n",
            "('hello', 1)\n",
            "('hello', 1)\n",
            "('hello', 1)\n",
            "('hello', 1)\n",
            "('hello', 1)\n",
            "('hello', 1)\n",
            "('This', 1)\n",
            "('is', 1)\n",
            "('a', 1)\n",
            "...\n",
            "\n",
            "-------------------------------------------\n",
            "Time: 2018-02-08 22:53:33\n",
            "-------------------------------------------\n",
            "('hello', 1)\n",
            "('hello', 1)\n",
            "('hello', 1)\n",
            "('hello', 1)\n",
            "('hello', 1)\n",
            "('hello', 1)\n",
            "('This', 1)\n",
            "('is', 1)\n",
            "('a', 1)\n",
            "('different', 1)\n",
            "...\n",
            "\n",
            "-------------------------------------------\n",
            "Time: 2018-02-08 22:53:43\n",
            "-------------------------------------------\n",
            "('This', 1)\n",
            "('is', 1)\n",
            "('a', 1)\n",
            "('different', 1)\n",
            "('sentence', 1)\n",
            "('This', 1)\n",
            "('is', 1)\n",
            "('another', 1)\n",
            "('different', 1)\n",
            "('sentence', 1)\n",
            "...\n",
            "\n",
            "-------------------------------------------\n",
            "Time: 2018-02-08 22:53:53\n",
            "-------------------------------------------\n",
            "('This', 1)\n",
            "('is', 1)\n",
            "('another', 1)\n",
            "('different', 1)\n",
            "('sentence', 1)\n",
            "('I', 1)\n",
            "('am', 1)\n",
            "('Sam', 1)\n",
            "('', 1)\n",
            "('I', 1)\n",
            "...\n",
            "\n",
            "-------------------------------------------\n",
            "Time: 2018-02-08 22:54:03\n",
            "-------------------------------------------\n",
            "('I', 1)\n",
            "('am', 1)\n",
            "('Sam', 1)\n",
            "('', 1)\n",
            "('I', 1)\n",
            "('am', 1)\n",
            "('Sam', 1)\n",
            "('Sam', 1)\n",
            "('I', 1)\n",
            "('am', 1)\n",
            "...\n",
            "\n",
            "-------------------------------------------\n",
            "Time: 2018-02-08 22:54:13\n",
            "-------------------------------------------\n",
            "('Sam-I-am', 1)\n",
            "\n",
            "-------------------------------------------\n",
            "Time: 2018-02-08 22:54:23\n",
            "-------------------------------------------\n",
            "\n"
          ]
        }
      ]
    },
    {
      "cell_type": "code",
      "metadata": {
        "id": "XIpmzBkYSToG"
      },
      "source": [
        "ssc.stop(stopSparkContext=True, stopGraceFully=True)"
      ],
      "execution_count": null,
      "outputs": []
    },
    {
      "cell_type": "markdown",
      "metadata": {
        "id": "0-t7eMQlSToH"
      },
      "source": [
        "## References\n",
        "1. https://spark.apache.org/docs/latest/streaming-programming-guide.html#window-operations"
      ]
    },
    {
      "cell_type": "markdown",
      "metadata": {
        "id": "lqWjMrRvSToH"
      },
      "source": [
        " "
      ]
    }
  ]
}