{
  "nbformat": 4,
  "nbformat_minor": 0,
  "metadata": {
    "kernelspec": {
      "display_name": "Python 3",
      "language": "python",
      "name": "python3"
    },
    "language_info": {
      "codemirror_mode": {
        "name": "ipython",
        "version": 3
      },
      "file_extension": ".py",
      "mimetype": "text/x-python",
      "name": "python",
      "nbconvert_exporter": "python",
      "pygments_lexer": "ipython3",
      "version": "3.8.10"
    },
    "colab": {
      "provenance": []
    }
  },
  "cells": [
    {
      "cell_type": "markdown",
      "metadata": {
        "id": "AJct7RQGB-MG"
      },
      "source": [
        "# reduceByKeyAndWindow transformation Demo"
      ]
    },
    {
      "cell_type": "markdown",
      "metadata": {
        "id": "0X1aghrKB-MK"
      },
      "source": [
        "| Transformation        | Meaning           |\n",
        "| -------------:|:-------------|\n",
        "| **reduceByKeyAndWindow**(func, windowLength, slideInterval, [numTasks])     | When called on a DStream of (K, V) pairs, returns a new DStream of (K, V) pairs where the values for each key are aggregated using the given reduce function func over batches in a sliding window. Note: By default, this uses Spark's default number of parallel tasks (2 for local mode, and in cluster mode the number is determined by the config property spark.default.parallelism) to do the grouping. You can pass an optional numTasks argument to set a different number of tasks. |\n",
        "| **reduceByKeyAndWindow**(func, invFunc, windowLength, slideInterval, [numTasks])      | A more efficient version of the above reduceByKeyAndWindow() where the reduce value of each window is calculated incrementally using the reduce values of the previous window. This is done by reducing the new data that enters the sliding window, and “inverse reducing” the old data that leaves the window. An example would be that of “adding” and “subtracting” counts of keys as the window slides. However, it is applicable only to “invertible reduce functions”, that is, those reduce functions which have a corresponding “inverse reduce” function (taken as parameter invFunc). Like in reduceByKeyAndWindow, the number of reduce tasks is configurable through an optional argument. Note that checkpointing must be enabled for using this operation.      |\n"
      ]
    },
    {
      "cell_type": "markdown",
      "metadata": {
        "id": "2aqLKszBB-ML"
      },
      "source": [
        "### Demo"
      ]
    },
    {
      "cell_type": "code",
      "metadata": {
        "id": "DQ6CgRr_B-ML"
      },
      "source": [
        "'''\n",
        "import findspark\n",
        "# TODO: your path will likely not have 'matthew' in it. Change it to reflect your path.\n",
        "findspark.init('/home/siddharth/spark-2.1.0-bin-hadoop2.7')\n",
        "'''"
      ],
      "execution_count": null,
      "outputs": []
    },
    {
      "cell_type": "code",
      "source": [
        "!pip install pyspark"
      ],
      "metadata": {
        "colab": {
          "base_uri": "https://localhost:8080/"
        },
        "id": "8CfA6pDNASjc",
        "outputId": "08d76523-445f-4297-c797-aceb6e7cc15d"
      },
      "execution_count": 1,
      "outputs": [
        {
          "output_type": "stream",
          "name": "stdout",
          "text": [
            "Looking in indexes: https://pypi.org/simple, https://us-python.pkg.dev/colab-wheels/public/simple/\n",
            "Collecting pyspark\n",
            "  Downloading pyspark-3.3.2.tar.gz (281.4 MB)\n",
            "\u001b[2K     \u001b[90m━━━━━━━━━━━━━━━━━━━━━━━━━━━━━━━━━━━━━━━\u001b[0m \u001b[32m281.4/281.4 MB\u001b[0m \u001b[31m4.3 MB/s\u001b[0m eta \u001b[36m0:00:00\u001b[0m\n",
            "\u001b[?25h  Preparing metadata (setup.py) ... \u001b[?25l\u001b[?25hdone\n",
            "Collecting py4j==0.10.9.5\n",
            "  Downloading py4j-0.10.9.5-py2.py3-none-any.whl (199 kB)\n",
            "\u001b[2K     \u001b[90m━━━━━━━━━━━━━━━━━━━━━━━━━━━━━━━━━━━━━━\u001b[0m \u001b[32m199.7/199.7 KB\u001b[0m \u001b[31m12.9 MB/s\u001b[0m eta \u001b[36m0:00:00\u001b[0m\n",
            "\u001b[?25hBuilding wheels for collected packages: pyspark\n",
            "  Building wheel for pyspark (setup.py) ... \u001b[?25l\u001b[?25hdone\n",
            "  Created wheel for pyspark: filename=pyspark-3.3.2-py2.py3-none-any.whl size=281824025 sha256=f71b5eba861eeebbcee747a461d551a01e875d5678ca4cdf8da4553942be13c5\n",
            "  Stored in directory: /root/.cache/pip/wheels/6c/e3/9b/0525ce8a69478916513509d43693511463c6468db0de237c86\n",
            "Successfully built pyspark\n",
            "Installing collected packages: py4j, pyspark\n",
            "Successfully installed py4j-0.10.9.5 pyspark-3.3.2\n"
          ]
        }
      ]
    },
    {
      "cell_type": "code",
      "metadata": {
        "id": "o7rKTqP_B-MM"
      },
      "source": [
        "from pyspark import SparkContext\n",
        "from pyspark.streaming import StreamingContext"
      ],
      "execution_count": null,
      "outputs": []
    },
    {
      "cell_type": "code",
      "metadata": {
        "id": "OZMTPWjMB-MM"
      },
      "source": [
        "sc = SparkContext(master=\"local[2]\", appName=\"reduceByKeyAndWindowWordcount\")\n",
        "ssc = StreamingContext(sc, 1)\n",
        "ssc.checkpoint(\"checkpoint\")"
      ],
      "execution_count": null,
      "outputs": []
    },
    {
      "cell_type": "code",
      "metadata": {
        "id": "w_yZ5ib2B-MN"
      },
      "source": [
        "lines = ssc.socketTextStream(\"localhost\", 7777)"
      ],
      "execution_count": null,
      "outputs": []
    },
    {
      "cell_type": "code",
      "metadata": {
        "id": "Ca6CLU2CB-MN"
      },
      "source": [
        "words = lines.flatMap(lambda line: line.split(\" \"))\n",
        "pairs = words.map(lambda word: (word, 1))\n",
        "pairs.reduceByKeyAndWindow(lambda x,y: (x + y), 30, 10).pprint()"
      ],
      "execution_count": null,
      "outputs": []
    },
    {
      "cell_type": "code",
      "metadata": {
        "scrolled": true,
        "id": "J-0bik4EB-MN",
        "outputId": "fc41c8e0-fffa-4992-aada-e05fbf31fb37"
      },
      "source": [
        "ssc.start()"
      ],
      "execution_count": null,
      "outputs": [
        {
          "name": "stdout",
          "output_type": "stream",
          "text": [
            "-------------------------------------------\n",
            "Time: 2018-02-09 02:16:32\n",
            "-------------------------------------------\n",
            "\n",
            "-------------------------------------------\n",
            "Time: 2018-02-09 02:16:33\n",
            "-------------------------------------------\n",
            "\n",
            "-------------------------------------------\n",
            "Time: 2018-02-09 02:16:34\n",
            "-------------------------------------------\n",
            "\n",
            "-------------------------------------------\n",
            "Time: 2018-02-09 02:16:35\n",
            "-------------------------------------------\n",
            "\n",
            "-------------------------------------------\n",
            "Time: 2018-02-09 02:16:36\n",
            "-------------------------------------------\n",
            "\n",
            "-------------------------------------------\n",
            "Time: 2018-02-09 02:16:37\n",
            "-------------------------------------------\n",
            "('hello', 1)\n",
            "\n",
            "-------------------------------------------\n",
            "Time: 2018-02-09 02:16:38\n",
            "-------------------------------------------\n",
            "('hello', 1)\n",
            "\n",
            "-------------------------------------------\n",
            "Time: 2018-02-09 02:16:39\n",
            "-------------------------------------------\n",
            "('hello', 2)\n",
            "\n",
            "-------------------------------------------\n",
            "Time: 2018-02-09 02:16:40\n",
            "-------------------------------------------\n",
            "('hello', 3)\n",
            "\n",
            "-------------------------------------------\n",
            "Time: 2018-02-09 02:16:41\n",
            "-------------------------------------------\n",
            "('hello', 3)\n",
            "\n",
            "-------------------------------------------\n",
            "Time: 2018-02-09 02:16:42\n",
            "-------------------------------------------\n",
            "('hello', 3)\n",
            "\n",
            "-------------------------------------------\n",
            "Time: 2018-02-09 02:16:43\n",
            "-------------------------------------------\n",
            "('hello', 3)\n",
            "\n",
            "-------------------------------------------\n",
            "Time: 2018-02-09 02:16:44\n",
            "-------------------------------------------\n",
            "('hello', 3)\n",
            "\n",
            "-------------------------------------------\n",
            "Time: 2018-02-09 02:16:45\n",
            "-------------------------------------------\n",
            "('hello', 3)\n",
            "\n",
            "-------------------------------------------\n",
            "Time: 2018-02-09 02:16:46\n",
            "-------------------------------------------\n",
            "('hello', 7)\n",
            "\n"
          ]
        }
      ]
    },
    {
      "cell_type": "code",
      "metadata": {
        "id": "LHbv6Rx_B-MO"
      },
      "source": [
        "ssc.stop(stopSparkContext=True, stopGraceFully=True)"
      ],
      "execution_count": null,
      "outputs": []
    },
    {
      "cell_type": "markdown",
      "metadata": {
        "id": "VDiw_3gDB-MP"
      },
      "source": [
        "## References\n",
        "1. https://spark.apache.org/docs/latest/streaming-programming-guide.html#window-operations"
      ]
    },
    {
      "cell_type": "markdown",
      "metadata": {
        "id": "gIdQFFE1B-MP"
      },
      "source": [
        " "
      ]
    }
  ]
}