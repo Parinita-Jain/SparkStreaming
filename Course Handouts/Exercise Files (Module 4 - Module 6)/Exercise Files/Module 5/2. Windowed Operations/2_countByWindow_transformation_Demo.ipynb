{
  "nbformat": 4,
  "nbformat_minor": 0,
  "metadata": {
    "kernelspec": {
      "display_name": "Python 3",
      "language": "python",
      "name": "python3"
    },
    "language_info": {
      "codemirror_mode": {
        "name": "ipython",
        "version": 3
      },
      "file_extension": ".py",
      "mimetype": "text/x-python",
      "name": "python",
      "nbconvert_exporter": "python",
      "pygments_lexer": "ipython3",
      "version": "3.8.10"
    },
    "colab": {
      "provenance": []
    }
  },
  "cells": [
    {
      "cell_type": "markdown",
      "metadata": {
        "id": "WydZR-qtSY8w"
      },
      "source": [
        "# countByWindow transformation Demo"
      ]
    },
    {
      "cell_type": "markdown",
      "metadata": {
        "id": "Xu_mSu3PSY80"
      },
      "source": [
        "The countByWindow transformation works as follows:\n",
        "\n",
        "| Transformation        | Meaning           |\n",
        "| -------------:|:-------------|\n",
        "| **countByWindow**(windowLength, slideInterval)     | Return a sliding window count of elements in the stream.     |\n"
      ]
    },
    {
      "cell_type": "markdown",
      "metadata": {
        "id": "bqsq_kM9SY81"
      },
      "source": [
        "Explain countByWindow transformation in depth and what is the usage of countByWindow function"
      ]
    },
    {
      "cell_type": "markdown",
      "metadata": {
        "id": "1B05iCqkSY81"
      },
      "source": [
        "### Demo"
      ]
    },
    {
      "cell_type": "code",
      "metadata": {
        "id": "ZkHwkfx1SY81"
      },
      "source": [
        "'''\n",
        "import findspark\n",
        "# TODO: your path will likely not have 'matthew' in it. Change it to reflect your path.\n",
        "findspark.init('/home/siddharth/spark-2.1.0-bin-hadoop2.7')\n",
        "'''"
      ],
      "execution_count": null,
      "outputs": []
    },
    {
      "cell_type": "code",
      "source": [
        "!pip install pyspark"
      ],
      "metadata": {
        "colab": {
          "base_uri": "https://localhost:8080/"
        },
        "id": "rQgX4Olh7e-m",
        "outputId": "43dc99dd-d5a1-46b7-e051-573b3ad49603"
      },
      "execution_count": 1,
      "outputs": [
        {
          "output_type": "stream",
          "name": "stdout",
          "text": [
            "Looking in indexes: https://pypi.org/simple, https://us-python.pkg.dev/colab-wheels/public/simple/\n",
            "Collecting pyspark\n",
            "  Downloading pyspark-3.3.2.tar.gz (281.4 MB)\n",
            "\u001b[2K     \u001b[90m━━━━━━━━━━━━━━━━━━━━━━━━━━━━━━━━━━━━━━━\u001b[0m \u001b[32m281.4/281.4 MB\u001b[0m \u001b[31m3.3 MB/s\u001b[0m eta \u001b[36m0:00:00\u001b[0m\n",
            "\u001b[?25h  Preparing metadata (setup.py) ... \u001b[?25l\u001b[?25hdone\n",
            "Collecting py4j==0.10.9.5\n",
            "  Downloading py4j-0.10.9.5-py2.py3-none-any.whl (199 kB)\n",
            "\u001b[2K     \u001b[90m━━━━━━━━━━━━━━━━━━━━━━━━━━━━━━━━━━━━━━━\u001b[0m \u001b[32m199.7/199.7 KB\u001b[0m \u001b[31m9.3 MB/s\u001b[0m eta \u001b[36m0:00:00\u001b[0m\n",
            "\u001b[?25hBuilding wheels for collected packages: pyspark\n",
            "  Building wheel for pyspark (setup.py) ... \u001b[?25l\u001b[?25hdone\n",
            "  Created wheel for pyspark: filename=pyspark-3.3.2-py2.py3-none-any.whl size=281824025 sha256=89aa6ff6cc608921c8b8dd12579dbc68cc47bcc4eeed4cdf1eea1a26895efe00\n",
            "  Stored in directory: /root/.cache/pip/wheels/6c/e3/9b/0525ce8a69478916513509d43693511463c6468db0de237c86\n",
            "Successfully built pyspark\n",
            "Installing collected packages: py4j, pyspark\n",
            "Successfully installed py4j-0.10.9.5 pyspark-3.3.2\n"
          ]
        }
      ]
    },
    {
      "cell_type": "code",
      "metadata": {
        "id": "Wq1oAOQnSY82"
      },
      "source": [
        "from pyspark import SparkContext\n",
        "from pyspark.streaming import StreamingContext"
      ],
      "execution_count": 2,
      "outputs": []
    },
    {
      "cell_type": "code",
      "metadata": {
        "id": "Uum2Nv0tSY83"
      },
      "source": [
        "sc = SparkContext(master=\"local[2]\", appName=\"coutnByWindowWordcount\")\n",
        "ssc = StreamingContext(sc, 1)\n",
        "ssc.checkpoint(\"checkpoint\")"
      ],
      "execution_count": 3,
      "outputs": []
    },
    {
      "cell_type": "code",
      "metadata": {
        "id": "da4v2UQBSY83"
      },
      "source": [
        "lines = ssc.socketTextStream(\"localhost\", 9990)"
      ],
      "execution_count": 4,
      "outputs": []
    },
    {
      "cell_type": "code",
      "metadata": {
        "id": "5UYmdl6WSY83"
      },
      "source": [
        "words = lines.flatMap(lambda line: line.split(\" \"))\n",
        "pairs = words.map(lambda word: (word, 1))\n",
        "pairs.countByWindow(30, 10).pprint()"
      ],
      "execution_count": 5,
      "outputs": []
    },
    {
      "cell_type": "code",
      "metadata": {
        "id": "xj496QTYSY84",
        "outputId": "eb9bfa61-257c-42da-b03d-1f9de03529f8"
      },
      "source": [
        "ssc.start()"
      ],
      "execution_count": null,
      "outputs": [
        {
          "name": "stdout",
          "output_type": "stream",
          "text": [
            "-------------------------------------------\n",
            "Time: 2018-02-09 01:43:10\n",
            "-------------------------------------------\n",
            "2\n",
            "\n",
            "-------------------------------------------\n",
            "Time: 2018-02-09 01:43:20\n",
            "-------------------------------------------\n",
            "7\n",
            "\n",
            "-------------------------------------------\n",
            "Time: 2018-02-09 01:43:30\n",
            "-------------------------------------------\n",
            "7\n",
            "\n",
            "-------------------------------------------\n",
            "Time: 2018-02-09 01:43:40\n",
            "-------------------------------------------\n",
            "18\n",
            "\n",
            "-------------------------------------------\n",
            "Time: 2018-02-09 01:43:50\n",
            "-------------------------------------------\n",
            "832\n",
            "\n",
            "-------------------------------------------\n",
            "Time: 2018-02-09 01:44:00\n",
            "-------------------------------------------\n",
            "832\n",
            "\n",
            "-------------------------------------------\n",
            "Time: 2018-02-09 01:44:10\n",
            "-------------------------------------------\n",
            "819\n",
            "\n",
            "-------------------------------------------\n",
            "Time: 2018-02-09 01:44:20\n",
            "-------------------------------------------\n",
            "\n"
          ]
        }
      ]
    },
    {
      "cell_type": "code",
      "metadata": {
        "id": "8y5FuQ4QSY85"
      },
      "source": [
        "ssc.stop(stopSparkContext=True, stopGraceFully=True)"
      ],
      "execution_count": null,
      "outputs": []
    },
    {
      "cell_type": "markdown",
      "metadata": {
        "id": "jv1ykMTYSY85"
      },
      "source": [
        "## References\n",
        "1. https://spark.apache.org/docs/latest/streaming-programming-guide.html#window-operations"
      ]
    },
    {
      "cell_type": "markdown",
      "metadata": {
        "id": "004NtYM7SY85"
      },
      "source": [
        " "
      ]
    }
  ]
}