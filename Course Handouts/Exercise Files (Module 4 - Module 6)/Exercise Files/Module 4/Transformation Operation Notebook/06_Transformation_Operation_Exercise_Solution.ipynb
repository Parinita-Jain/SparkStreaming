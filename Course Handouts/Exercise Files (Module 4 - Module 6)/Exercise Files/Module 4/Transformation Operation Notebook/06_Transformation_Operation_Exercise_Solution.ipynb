{
  "nbformat": 4,
  "nbformat_minor": 0,
  "metadata": {
    "kernelspec": {
      "display_name": "Python 3",
      "language": "python",
      "name": "python3"
    },
    "language_info": {
      "codemirror_mode": {
        "name": "ipython",
        "version": 3
      },
      "file_extension": ".py",
      "mimetype": "text/x-python",
      "name": "python",
      "nbconvert_exporter": "python",
      "pygments_lexer": "ipython3",
      "version": "3.8.10"
    },
    "colab": {
      "provenance": []
    }
  },
  "cells": [
    {
      "cell_type": "markdown",
      "metadata": {
        "id": "9mA2Bx3PTF9x"
      },
      "source": [
        "# Transformation Operation Exercise"
      ]
    },
    {
      "cell_type": "markdown",
      "metadata": {
        "id": "adSvqgo2TF90"
      },
      "source": [
        "The `transform` operation (along with its variations like `transformWith`) allows arbitrary RDD-to-RDD functions to be applied on a DStream. It can be used to apply any RDD operation that is not exposed in the DStream API. For example, the functionality of joining every batch in a data stream with another dataset is not directly exposed in the DStream API. However, you can easily use `transform to do` this. This enables very powerful possibilities. For example, one can do real-time data cleaning by joining the input data stream with precomputed spam information (maybe generated with Spark as well) and then filtering based on it.\n",
        "```python\n",
        "spamInfoRDD = sc.pickleFile(...)  # RDD containing spam information\n",
        "\n",
        "# join data stream with spam information to do data cleaning\n",
        "cleanedDStream = wordCounts.transform(lambda rdd: rdd.join(spamInfoRDD).filter(...))\n",
        "```\n",
        "Note that the supplied function gets called in every batch interval. This allows you to do time-varying RDD operations, that is, RDD operations, number of partitions, broadcast variables, etc. can be changed between batches.\n",
        "\n",
        "What is the benefit of it?\n"
      ]
    },
    {
      "cell_type": "code",
      "source": [
        "!pip install pyspark "
      ],
      "metadata": {
        "colab": {
          "base_uri": "https://localhost:8080/"
        },
        "id": "GjhOygtMgC-0",
        "outputId": "08ac15ca-f598-4cfb-afc1-aa0a52e881d9"
      },
      "execution_count": 1,
      "outputs": [
        {
          "output_type": "stream",
          "name": "stdout",
          "text": [
            "Looking in indexes: https://pypi.org/simple, https://us-python.pkg.dev/colab-wheels/public/simple/\n",
            "Collecting pyspark\n",
            "  Downloading pyspark-3.3.2.tar.gz (281.4 MB)\n",
            "\u001b[2K     \u001b[90m━━━━━━━━━━━━━━━━━━━━━━━━━━━━━━━━━━━━━━━\u001b[0m \u001b[32m281.4/281.4 MB\u001b[0m \u001b[31m3.1 MB/s\u001b[0m eta \u001b[36m0:00:00\u001b[0m\n",
            "\u001b[?25h  Preparing metadata (setup.py) ... \u001b[?25l\u001b[?25hdone\n",
            "Collecting py4j==0.10.9.5\n",
            "  Downloading py4j-0.10.9.5-py2.py3-none-any.whl (199 kB)\n",
            "\u001b[2K     \u001b[90m━━━━━━━━━━━━━━━━━━━━━━━━━━━━━━━━━━━━━━\u001b[0m \u001b[32m199.7/199.7 KB\u001b[0m \u001b[31m11.3 MB/s\u001b[0m eta \u001b[36m0:00:00\u001b[0m\n",
            "\u001b[?25hBuilding wheels for collected packages: pyspark\n",
            "  Building wheel for pyspark (setup.py) ... \u001b[?25l\u001b[?25hdone\n",
            "  Created wheel for pyspark: filename=pyspark-3.3.2-py2.py3-none-any.whl size=281824025 sha256=5866213691406db234bd2a3b6ad8c1a2bb00ec8b42c1f0218b3ea1638eb4c297\n",
            "  Stored in directory: /root/.cache/pip/wheels/6c/e3/9b/0525ce8a69478916513509d43693511463c6468db0de237c86\n",
            "Successfully built pyspark\n",
            "Installing collected packages: py4j, pyspark\n",
            "Successfully installed py4j-0.10.9.5 pyspark-3.3.2\n"
          ]
        }
      ]
    },
    {
      "cell_type": "markdown",
      "metadata": {
        "id": "5IZj4TWpTF91"
      },
      "source": [
        "### Exercise"
      ]
    },
    {
      "cell_type": "markdown",
      "metadata": {
        "id": "qxgjgGSZTF91"
      },
      "source": [
        "Suppose we have two rdds tthat are combined into a DStream\n",
        "\n",
        "We would like to apply the `union()` function to this DStream and the RDD `commonRdd`"
      ]
    },
    {
      "cell_type": "code",
      "metadata": {
        "id": "bJfjlYdNTF91"
      },
      "source": [
        "'''\n",
        "import findspark\n",
        "# TODO: your path will likely not have 'matthew' in it. Change it to reflect your path.\n",
        "findspark.init('/home/siddharth/spark-2.1.0-bin-hadoop2.7')\n",
        "'''"
      ],
      "execution_count": null,
      "outputs": []
    },
    {
      "cell_type": "code",
      "metadata": {
        "id": "AVXuz43uTF92"
      },
      "source": [
        "from pyspark import SparkConf, SparkContext\n",
        "from pyspark.streaming import StreamingContext"
      ],
      "execution_count": 2,
      "outputs": []
    },
    {
      "cell_type": "code",
      "metadata": {
        "id": "q-5J_nBnTF92"
      },
      "source": [
        "conf = SparkConf().setMaster(\"local[2]\").setAppName(\"StreamingTransformExample\")\n",
        "sc = SparkContext(conf=conf)\n",
        "ssc = StreamingContext(sc, 5)"
      ],
      "execution_count": 3,
      "outputs": []
    },
    {
      "cell_type": "code",
      "metadata": {
        "id": "i2kSgVFHTF93"
      },
      "source": [
        "rdd1 = ssc.sparkContext.parallelize([1,2,3])\n",
        "rdd2 = ssc.sparkContext.parallelize([4,5,6])\n",
        "rddQueue = [rdd1,rdd2]"
      ],
      "execution_count": 4,
      "outputs": []
    },
    {
      "cell_type": "code",
      "metadata": {
        "id": "ilWnQY7tTF93"
      },
      "source": [
        "# Creates a DStream from the RDDs above\n",
        "numsDStream = ssc.queueStream(rddQueue)\n",
        "plusOneDStream = numsDStream.map(lambda x : x+1)\n",
        "plusOneDStream.pprint()"
      ],
      "execution_count": 5,
      "outputs": []
    },
    {
      "cell_type": "code",
      "metadata": {
        "id": "0oa6XnZzTF94"
      },
      "source": [
        "commonRdd = ssc.sparkContext.parallelize([7,8,9])\n",
        "# TODO: Use the transform function to apply the union function to the RDDs within numsDStream and elements of commonRdd\n",
        "# and print the resulting DStream\n",
        "combinedDStream = numsDStream.transform(lambda rdd: rdd.union(commonRdd))\n",
        "combinedDStream.pprint()"
      ],
      "execution_count": 6,
      "outputs": []
    },
    {
      "cell_type": "code",
      "metadata": {
        "id": "2AwIkYonTF94"
      },
      "source": [
        "ssc.start() \n",
        "# ssc.awaitTermination()"
      ],
      "execution_count": 7,
      "outputs": []
    },
    {
      "cell_type": "code",
      "metadata": {
        "id": "WgLGQKf1TF95",
        "colab": {
          "base_uri": "https://localhost:8080/"
        },
        "outputId": "10cf7287-b86f-479b-a43f-2256f0bc4b46"
      },
      "source": [
        "ssc.stop(stopSparkContext=True, stopGraceFully=True)"
      ],
      "execution_count": 8,
      "outputs": [
        {
          "output_type": "stream",
          "name": "stdout",
          "text": [
            "-------------------------------------------\n",
            "Time: 2023-03-11 07:11:35\n",
            "-------------------------------------------\n",
            "5\n",
            "6\n",
            "7\n",
            "\n",
            "-------------------------------------------\n",
            "Time: 2023-03-11 07:11:35\n",
            "-------------------------------------------\n",
            "4\n",
            "5\n",
            "6\n",
            "7\n",
            "8\n",
            "9\n",
            "\n",
            "-------------------------------------------\n",
            "Time: 2023-03-11 07:11:40\n",
            "-------------------------------------------\n",
            "\n",
            "-------------------------------------------\n",
            "Time: 2023-03-11 07:11:40\n",
            "-------------------------------------------\n",
            "7\n",
            "8\n",
            "9\n",
            "\n"
          ]
        }
      ]
    },
    {
      "cell_type": "markdown",
      "metadata": {
        "id": "d5nt3nPVTF95"
      },
      "source": [
        "## References\n",
        "1. https://spark.apache.org/docs/latest/streaming-programming-guide.html#transform-operation\n"
      ]
    },
    {
      "cell_type": "markdown",
      "metadata": {
        "id": "O5t_Djc6TF95"
      },
      "source": [
        " "
      ]
    }
  ]
}