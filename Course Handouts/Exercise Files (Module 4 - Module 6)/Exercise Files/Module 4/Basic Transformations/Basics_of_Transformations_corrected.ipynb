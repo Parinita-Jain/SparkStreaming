{
  "nbformat": 4,
  "nbformat_minor": 0,
  "metadata": {
    "kernelspec": {
      "display_name": "Python 3",
      "language": "python",
      "name": "python3"
    },
    "language_info": {
      "codemirror_mode": {
        "name": "ipython",
        "version": 3
      },
      "file_extension": ".py",
      "mimetype": "text/x-python",
      "name": "python",
      "nbconvert_exporter": "python",
      "pygments_lexer": "ipython3",
      "version": "3.8.10"
    },
    "colab": {
      "provenance": []
    }
  },
  "cells": [
    {
      "cell_type": "markdown",
      "metadata": {
        "id": "RXqHMVdqIi22"
      },
      "source": [
        "# Basics of Transformations Demo"
      ]
    },
    {
      "cell_type": "markdown",
      "metadata": {
        "id": "jBjkE9YGIi29"
      },
      "source": [
        "In Spark Streaming, DStreams are treated very similarly to the RDDs that make them up. Like RDDs, there are a wide variety of data transformation options. \n",
        "\n",
        "Here are some examples of the transformations from the Spark documentation that might be useful for your purposes\n",
        "\n",
        "| Transformation        | Meaning         |\n",
        "| ------------------------------ |:-------------|\n",
        "| **map**(func)      | Return a new DStream by passing each element of the source DStream through a function func.    |\n",
        "| **flatMap**(func)\t| Similar to map, but each input item can be mapped to 0 or more output items.    |\n",
        "| **filter**(func)\t| Return a new DStream by selecting only the records of the source DStream on which func returns true.    |\n",
        "| **repartition**(numPartitions)\t| Changes the level of parallelism in this DStream by creating more or fewer partitions.    |\n",
        "| **union**(otherStream)\t| Return a new DStream that contains the union of the elements in the source DStream and otherDStream. |\n",
        "| **count**()\t| Return a new DStream of single-element RDDs by counting the number of elements in each RDD of the source DStream.  |\n",
        "| **reduce**(func)\t| Return a new DStream of single-element RDDs by aggregating the elements in each RDD of the source DStream using  a function func (which takes two arguments and returns one). The function should be associative and commutative so that it can be computed in parallel.\n",
        "| **countByValue**()\t| When called on a DStream of elements of type K, return a new DStream of (K, Long) pairs where the value of each key is its frequency in each RDD of the source DStream.\n",
        "| **reduceByKey**(func, [numTasks])\t| When called on a DStream of (K, V) pairs, return a new DStream of (K, V) pairs where the values for each key are aggregated using the given reduce function. Note: By default, this uses Spark's default number of parallel tasks (2 for local mode, and in cluster mode the number is determined by the config property spark.default.parallelism) to do the grouping. You can pass an optional numTasks argument to set a different number of tasks.\n",
        "| **join**(otherStream, [numTasks])\t| When called on two DStreams of (K, V) and (K, W) pairs, return a new DStream of (K, (V, W)) pairs with all pairs of elements for each key.\n",
        "| **cogroup**(otherStream, [numTasks])\t| When called on a DStream of (K, V) and (K, W) pairs, return a new DStream of (K, Seq[V], Seq[W]) tuples.\n",
        "\n",
        "\n",
        "If you look at the spark streaming documentation, you will also find the `transform(func)` and `updateStateByKey(func)`. We will discuss these later in the course.\n"
      ]
    },
    {
      "cell_type": "markdown",
      "metadata": {
        "id": "IFF7OzwyIi3A"
      },
      "source": [
        "### Demo (Part 1)"
      ]
    },
    {
      "cell_type": "markdown",
      "metadata": {
        "collapsed": true,
        "id": "HGUndzNAIi3B"
      },
      "source": [
        "We're going to be demoing the map and flatmap functions with respect to DStreams. One important question is \"What is the difference between the two?\"\n",
        "\n",
        "`map`: It returns a new RDD by applying a function to each element of the RDD. Function in map can return only one item. Works with DStreams as well as RDDs\n",
        "\n",
        "`flatMap`: Similar to map, it returns a new RDD by applying  a function to each element of the RDD, but output is flattened.\n",
        "Also, function in flatMap can return a list of elements (0 or more). Works with DStreams as well as RDDs.\n",
        "\n",
        "Here's an example:"
      ]
    },
    {
      "cell_type": "code",
      "source": [
        "!pip install pyspark "
      ],
      "metadata": {
        "colab": {
          "base_uri": "https://localhost:8080/"
        },
        "id": "NgMCHfZdVsjm",
        "outputId": "5fb7983c-7ae5-4585-afef-b42f6da7efad"
      },
      "execution_count": 1,
      "outputs": [
        {
          "output_type": "stream",
          "name": "stdout",
          "text": [
            "Looking in indexes: https://pypi.org/simple, https://us-python.pkg.dev/colab-wheels/public/simple/\n",
            "Collecting pyspark\n",
            "  Downloading pyspark-3.3.2.tar.gz (281.4 MB)\n",
            "\u001b[2K     \u001b[90m━━━━━━━━━━━━━━━━━━━━━━━━━━━━━━━━━━━━━━━\u001b[0m \u001b[32m281.4/281.4 MB\u001b[0m \u001b[31m4.3 MB/s\u001b[0m eta \u001b[36m0:00:00\u001b[0m\n",
            "\u001b[?25h  Preparing metadata (setup.py) ... \u001b[?25l\u001b[?25hdone\n",
            "Collecting py4j==0.10.9.5\n",
            "  Downloading py4j-0.10.9.5-py2.py3-none-any.whl (199 kB)\n",
            "\u001b[2K     \u001b[90m━━━━━━━━━━━━━━━━━━━━━━━━━━━━━━━━━━━━━━\u001b[0m \u001b[32m199.7/199.7 KB\u001b[0m \u001b[31m12.1 MB/s\u001b[0m eta \u001b[36m0:00:00\u001b[0m\n",
            "\u001b[?25hBuilding wheels for collected packages: pyspark\n",
            "  Building wheel for pyspark (setup.py) ... \u001b[?25l\u001b[?25hdone\n",
            "  Created wheel for pyspark: filename=pyspark-3.3.2-py2.py3-none-any.whl size=281824025 sha256=56934471479c981193981acc525219a59b705621f4841e4079e1e63ee2406abf\n",
            "  Stored in directory: /root/.cache/pip/wheels/6c/e3/9b/0525ce8a69478916513509d43693511463c6468db0de237c86\n",
            "Successfully built pyspark\n",
            "Installing collected packages: py4j, pyspark\n",
            "Successfully installed py4j-0.10.9.5 pyspark-3.3.2\n"
          ]
        }
      ]
    },
    {
      "cell_type": "code",
      "metadata": {
        "id": "sIPY1y94mMjC"
      },
      "source": [
        "'''\n",
        "!apt-get install openjdk-8-jdk-headless -qq > /dev/null\n",
        "!wget -q https://dlcdn.apache.org/spark/spark-3.2.0/spark-3.2.0-bin-hadoop3.2.tgz\n",
        "!tar xf spark-3.2.0-bin-hadoop3.2.tgz\n",
        "!pip install -q findspark\n",
        "'''"
      ],
      "execution_count": null,
      "outputs": []
    },
    {
      "cell_type": "code",
      "metadata": {
        "id": "w8ybQ2KznV7Y"
      },
      "source": [
        "'''\n",
        "import os\n",
        "os.environ[\"JAVA_HOME\"] = \"/usr/lib/jvm/java-8-openjdk-amd64\"\n",
        "os.environ[\"SPARK_HOME\"] = \"/content/spark-3.2.0-bin-hadoop3.2\"\n",
        "'''"
      ],
      "execution_count": null,
      "outputs": []
    },
    {
      "cell_type": "code",
      "metadata": {
        "id": "I1iFB6s7nWPm"
      },
      "source": [
        "'''\n",
        "import findspark\n",
        "findspark.init()\n",
        "'''"
      ],
      "execution_count": null,
      "outputs": []
    },
    {
      "cell_type": "code",
      "metadata": {
        "id": "pvqR8fscIi3B"
      },
      "source": [
        "# The first step is to import the required libraries \n",
        "\n",
        "from pyspark import SparkContext\n",
        "from pyspark.streaming import StreamingContext"
      ],
      "execution_count": 2,
      "outputs": []
    },
    {
      "cell_type": "code",
      "metadata": {
        "id": "vw5y9MQFIi3E",
        "colab": {
          "base_uri": "https://localhost:8080/"
        },
        "outputId": "61d2a041-fd87-497a-ce70-5474a876cef1"
      },
      "source": [
        "# Create a SparkContext \n",
        "\n",
        "sc = SparkContext(appName=\"PythonStreamingTransformationDemo\")\n",
        "\n",
        "# Usage of map() function. Parallelize and collect sample data\n",
        "sc.parallelize([3,4,5]).map(lambda x: range(1,x)).collect()"
      ],
      "execution_count": 3,
      "outputs": [
        {
          "output_type": "execute_result",
          "data": {
            "text/plain": [
              "[range(1, 3), range(1, 4), range(1, 5)]"
            ]
          },
          "metadata": {},
          "execution_count": 3
        }
      ]
    },
    {
      "cell_type": "code",
      "metadata": {
        "id": "hjYuixFWIi3E",
        "colab": {
          "base_uri": "https://localhost:8080/"
        },
        "outputId": "4761bf7a-8300-4453-939b-070ba60488e5"
      },
      "source": [
        "# Usage of flatMap() function. Parallelize and collect sample data\n",
        "sc.parallelize([3,4,5]).flatMap(lambda x: range(1,x)).collect()"
      ],
      "execution_count": 4,
      "outputs": [
        {
          "output_type": "execute_result",
          "data": {
            "text/plain": [
              "[1, 2, 1, 2, 3, 1, 2, 3, 4]"
            ]
          },
          "metadata": {},
          "execution_count": 4
        }
      ]
    },
    {
      "cell_type": "markdown",
      "metadata": {
        "id": "TODVkKo8Ii3F"
      },
      "source": [
        "notice o/p is flattened out in a single list"
      ]
    },
    {
      "cell_type": "markdown",
      "metadata": {
        "id": "UksQYDLJIi3G"
      },
      "source": [
        "Here's Another Example:"
      ]
    },
    {
      "cell_type": "code",
      "metadata": {
        "id": "sauEp4SZIi3H",
        "colab": {
          "base_uri": "https://localhost:8080/"
        },
        "outputId": "5d80a0f1-0855-4d7f-cd81-8cbb16fd35e5"
      },
      "source": [
        "sc.parallelize([3,4,5]).map(lambda x: [x,  x*x]).collect() "
      ],
      "execution_count": 5,
      "outputs": [
        {
          "output_type": "execute_result",
          "data": {
            "text/plain": [
              "[[3, 9], [4, 16], [5, 25]]"
            ]
          },
          "metadata": {},
          "execution_count": 5
        }
      ]
    },
    {
      "cell_type": "code",
      "metadata": {
        "id": "xdcUA42iIi3H",
        "colab": {
          "base_uri": "https://localhost:8080/"
        },
        "outputId": "dd52d27c-5a74-494b-aca7-13c51042b5a7"
      },
      "source": [
        "sc.parallelize([3,4,5]).flatMap(lambda x: [x, x*x]).collect() "
      ],
      "execution_count": 6,
      "outputs": [
        {
          "output_type": "execute_result",
          "data": {
            "text/plain": [
              "[3, 9, 4, 16, 5, 25]"
            ]
          },
          "metadata": {},
          "execution_count": 6
        }
      ]
    },
    {
      "cell_type": "markdown",
      "metadata": {
        "id": "sbjRrKM0Ii3H"
      },
      "source": [
        "notice that the list is flattened in the latter version"
      ]
    },
    {
      "cell_type": "markdown",
      "metadata": {
        "id": "QQusX6P5Ii3I"
      },
      "source": [
        "Here's another example, this time interacting with a file, which can often be useful for debugging code that interacts with full DStreams\n",
        "\n",
        "There is a text file `greetings.txt` with following lines:\n",
        "```\n",
        "Good Morning\n",
        "Good Evening\n",
        "Good Day\n",
        "Happy Birthday\n",
        "Happy New Year\n",
        "```"
      ]
    },
    {
      "cell_type": "code",
      "source": [
        "lines=sc.textFile(\"Greetings.txt\")"
      ],
      "metadata": {
        "id": "A-fXMmAhW8Gj"
      },
      "execution_count": 7,
      "outputs": []
    },
    {
      "cell_type": "code",
      "source": [
        "lines.map(lambda line:line.split(\" \")).collect()"
      ],
      "metadata": {
        "colab": {
          "base_uri": "https://localhost:8080/"
        },
        "id": "AngFaSaAW8I6",
        "outputId": "f4261a47-e752-45da-c33d-a88b294d8c04"
      },
      "execution_count": 8,
      "outputs": [
        {
          "output_type": "execute_result",
          "data": {
            "text/plain": [
              "[['Good', 'Morning'],\n",
              " ['Good', 'Evening'],\n",
              " ['Good', 'Day'],\n",
              " ['Happy', 'Birthday'],\n",
              " ['Happy', 'New', 'Year']]"
            ]
          },
          "metadata": {},
          "execution_count": 8
        }
      ]
    },
    {
      "cell_type": "code",
      "source": [
        "lines.flatMap(lambda line:line.split(\" \")).collect()"
      ],
      "metadata": {
        "colab": {
          "base_uri": "https://localhost:8080/"
        },
        "id": "QJFKKmcuW8Le",
        "outputId": "4b2dcb1f-daf9-4a57-bd6d-daa8f3c99179"
      },
      "execution_count": 9,
      "outputs": [
        {
          "output_type": "execute_result",
          "data": {
            "text/plain": [
              "['Good',\n",
              " 'Morning',\n",
              " 'Good',\n",
              " 'Evening',\n",
              " 'Good',\n",
              " 'Day',\n",
              " 'Happy',\n",
              " 'Birthday',\n",
              " 'Happy',\n",
              " 'New',\n",
              " 'Year']"
            ]
          },
          "metadata": {},
          "execution_count": 9
        }
      ]
    },
    {
      "cell_type": "markdown",
      "metadata": {
        "id": "nSswm_IaIi3J"
      },
      "source": [
        "# Demo (Part 2)"
      ]
    },
    {
      "cell_type": "markdown",
      "metadata": {
        "id": "OJ2xZVZ0Ii3J"
      },
      "source": [
        "Last time we went over the `map` and `flapmap` functions. We'll explore a few other options.\n",
        "\n",
        "Suppose we have a this example text from Dr Suess's _The Cat in the Hat_."
      ]
    },
    {
      "cell_type": "code",
      "source": [
        "!pip install pyspark"
      ],
      "metadata": {
        "colab": {
          "base_uri": "https://localhost:8080/"
        },
        "id": "p5iey6zdX8bN",
        "outputId": "92081ab7-6824-48d9-9c9f-96d8fdfd8242"
      },
      "execution_count": 1,
      "outputs": [
        {
          "output_type": "stream",
          "name": "stdout",
          "text": [
            "Looking in indexes: https://pypi.org/simple, https://us-python.pkg.dev/colab-wheels/public/simple/\n",
            "Collecting pyspark\n",
            "  Downloading pyspark-3.3.2.tar.gz (281.4 MB)\n",
            "\u001b[2K     \u001b[90m━━━━━━━━━━━━━━━━━━━━━━━━━━━━━━━━━━━━━━━\u001b[0m \u001b[32m281.4/281.4 MB\u001b[0m \u001b[31m2.3 MB/s\u001b[0m eta \u001b[36m0:00:00\u001b[0m\n",
            "\u001b[?25h  Preparing metadata (setup.py) ... \u001b[?25l\u001b[?25hdone\n",
            "Collecting py4j==0.10.9.5\n",
            "  Downloading py4j-0.10.9.5-py2.py3-none-any.whl (199 kB)\n",
            "\u001b[2K     \u001b[90m━━━━━━━━━━━━━━━━━━━━━━━━━━━━━━━━━━━━━━━\u001b[0m \u001b[32m199.7/199.7 KB\u001b[0m \u001b[31m9.7 MB/s\u001b[0m eta \u001b[36m0:00:00\u001b[0m\n",
            "\u001b[?25hBuilding wheels for collected packages: pyspark\n",
            "  Building wheel for pyspark (setup.py) ... \u001b[?25l\u001b[?25hdone\n",
            "  Created wheel for pyspark: filename=pyspark-3.3.2-py2.py3-none-any.whl size=281824025 sha256=5a0f3e1b3fc85aeb847a2d6027ef087a96628ff58657d55de7ffb8015f2ba7b0\n",
            "  Stored in directory: /root/.cache/pip/wheels/6c/e3/9b/0525ce8a69478916513509d43693511463c6468db0de237c86\n",
            "Successfully built pyspark\n",
            "Installing collected packages: py4j, pyspark\n",
            "Successfully installed py4j-0.10.9.5 pyspark-3.3.2\n"
          ]
        }
      ]
    },
    {
      "cell_type": "code",
      "metadata": {
        "id": "Jf9aek_vIi3J"
      },
      "source": [
        "from pyspark import SparkContext\n",
        "from pyspark.streaming import StreamingContext\n",
        "from pprint import pprint"
      ],
      "execution_count": 2,
      "outputs": []
    },
    {
      "cell_type": "code",
      "metadata": {
        "id": "djsq7BvIIi3K"
      },
      "source": [
        "#sc = SparkContext(appName=\"DrSeussExample\")\n",
        "scc = StreamingContext(sc, 10)"
      ],
      "execution_count": 8,
      "outputs": []
    },
    {
      "cell_type": "code",
      "source": [
        "myFile = scc.sparkContext.textFile(\"DrSeuss.text\")"
      ],
      "metadata": {
        "id": "-xOEu-KWa6yN"
      },
      "execution_count": 19,
      "outputs": []
    },
    {
      "cell_type": "code",
      "source": [
        "wordspair=myFile.flatMap(lambda row:row.split(' ')).map(lambda x:(x,1))"
      ],
      "metadata": {
        "id": "RJ4CT0Msa76F"
      },
      "execution_count": 20,
      "outputs": []
    },
    {
      "cell_type": "code",
      "source": [
        "wordspair.take(5)"
      ],
      "metadata": {
        "colab": {
          "base_uri": "https://localhost:8080/"
        },
        "id": "oL8PR2e2bPsU",
        "outputId": "78bddb7b-f854-4423-bac1-490ac7ec9cd9"
      },
      "execution_count": 21,
      "outputs": [
        {
          "output_type": "execute_result",
          "data": {
            "text/plain": [
              "[('The', 1), ('Cat', 1), ('in', 1), ('the', 1), ('Hat', 1)]"
            ]
          },
          "metadata": {},
          "execution_count": 21
        }
      ]
    },
    {
      "cell_type": "code",
      "source": [
        "oldwordcount=wordspair.reduceByKey(lambda x,y:x+y)"
      ],
      "metadata": {
        "id": "qO0SUf3jbT_2"
      },
      "execution_count": 22,
      "outputs": []
    },
    {
      "cell_type": "code",
      "source": [
        "oldwordcount.take(5)"
      ],
      "metadata": {
        "colab": {
          "base_uri": "https://localhost:8080/"
        },
        "id": "WvOoRHOBbUCR",
        "outputId": "7fe96d36-ebb1-4efd-8e4a-47ee98fc0184"
      },
      "execution_count": 23,
      "outputs": [
        {
          "output_type": "execute_result",
          "data": {
            "text/plain": [
              "[('The', 23), ('Cat', 11), ('in', 117), ('', 196), ('sun', 2)]"
            ]
          },
          "metadata": {},
          "execution_count": 23
        }
      ]
    },
    {
      "cell_type": "code",
      "source": [
        "oldwordcountfilter=oldwordcount.filter(lambda x:x[1]>100)"
      ],
      "metadata": {
        "id": "PuV7lXHWbUGO"
      },
      "execution_count": 24,
      "outputs": []
    },
    {
      "cell_type": "code",
      "source": [
        "oldwordcount.count()"
      ],
      "metadata": {
        "colab": {
          "base_uri": "https://localhost:8080/"
        },
        "id": "uQKcYM1FbUJW",
        "outputId": "82d4ab35-3ead-4fbd-f7c2-ac485ab54345"
      },
      "execution_count": 25,
      "outputs": [
        {
          "output_type": "execute_result",
          "data": {
            "text/plain": [
              "1717"
            ]
          },
          "metadata": {},
          "execution_count": 25
        }
      ]
    },
    {
      "cell_type": "code",
      "source": [
        "oldwordcountfilter.collect()"
      ],
      "metadata": {
        "colab": {
          "base_uri": "https://localhost:8080/"
        },
        "id": "i9MjYPP2bULn",
        "outputId": "64c4075b-11cc-476a-d435-87f3242cbcf3"
      },
      "execution_count": 26,
      "outputs": [
        {
          "output_type": "execute_result",
          "data": {
            "text/plain": [
              "[('in', 117), ('', 196), ('the', 220), ('to', 102), ('I', 184), ('a', 198)]"
            ]
          },
          "metadata": {},
          "execution_count": 26
        }
      ]
    },
    {
      "cell_type": "code",
      "source": [
        "oldwordcountfilterlimit=oldwordcountfilter.collect()"
      ],
      "metadata": {
        "id": "RF73OnfldMoq"
      },
      "execution_count": 29,
      "outputs": []
    },
    {
      "cell_type": "code",
      "source": [
        "oldwordcountfilterlimit"
      ],
      "metadata": {
        "colab": {
          "base_uri": "https://localhost:8080/"
        },
        "id": "_F2L-8OldMrx",
        "outputId": "596a8ca8-7260-41a5-e58b-7949042c21cb"
      },
      "execution_count": 30,
      "outputs": [
        {
          "output_type": "execute_result",
          "data": {
            "text/plain": [
              "[('in', 117), ('', 196), ('the', 220), ('to', 102), ('I', 184), ('a', 198)]"
            ]
          },
          "metadata": {},
          "execution_count": 30
        }
      ]
    },
    {
      "cell_type": "code",
      "source": [
        "lines=sc.parallelize([\"cat\",\"rat\",\"mat\"])"
      ],
      "metadata": {
        "id": "Nh9_T7Cldi6R"
      },
      "execution_count": 31,
      "outputs": []
    },
    {
      "cell_type": "code",
      "source": [
        "unionRDD=oldwordcountfilter.union(lines)"
      ],
      "metadata": {
        "id": "ybTdWjvudi81"
      },
      "execution_count": 32,
      "outputs": []
    },
    {
      "cell_type": "code",
      "source": [
        "unionRDD.collect()"
      ],
      "metadata": {
        "colab": {
          "base_uri": "https://localhost:8080/"
        },
        "id": "zw0eqH70di_p",
        "outputId": "40fe4f36-3974-4b09-c402-9f4d542a4d25"
      },
      "execution_count": 33,
      "outputs": [
        {
          "output_type": "execute_result",
          "data": {
            "text/plain": [
              "[('in', 117),\n",
              " ('', 196),\n",
              " ('the', 220),\n",
              " ('to', 102),\n",
              " ('I', 184),\n",
              " ('a', 198),\n",
              " 'cat',\n",
              " 'rat',\n",
              " 'mat']"
            ]
          },
          "metadata": {},
          "execution_count": 33
        }
      ]
    },
    {
      "cell_type": "code",
      "source": [
        "#---------------------------"
      ],
      "metadata": {
        "id": "Ipzq8VMkdjBq"
      },
      "execution_count": null,
      "outputs": []
    },
    {
      "cell_type": "code",
      "metadata": {
        "id": "aoFh-ZLCIi3K"
      },
      "source": [
        "\n",
        "wordspair = myFile.flatMap(lambda row: row.split(\" \")).map(lambda x: (x, 1)).reduceByKey(lambda x,y : x + y)\n",
        "oldwordcount = wordspair.reduceByKey(lambda x,y : x + y)\n",
        "lines = scc.socketTextStream(\"localhost\", 9999)"
      ],
      "execution_count": 10,
      "outputs": []
    },
    {
      "cell_type": "code",
      "metadata": {
        "id": "PUCk3BT_Ii3K",
        "colab": {
          "base_uri": "https://localhost:8080/"
        },
        "outputId": "6560631b-ee74-4087-ca87-18ac6e3b1c0e"
      },
      "source": [
        "print(lines)"
      ],
      "execution_count": 11,
      "outputs": [
        {
          "output_type": "stream",
          "name": "stdout",
          "text": [
            "<pyspark.streaming.dstream.DStream object at 0x7f872b4c9220>\n"
          ]
        }
      ]
    },
    {
      "cell_type": "markdown",
      "metadata": {
        "id": "_DbT1x4uIi3L"
      },
      "source": [
        "Suppose then that we want to get wordcounts for this. We can use the map function from before here. `map` returns a new RDD containing values created by applying the supplied function to each value in the original RDD Here we use a lambda function which replaces some common punctuation characters with spaces and convert to lower  case, producing a new RDD:"
      ]
    },
    {
      "cell_type": "code",
      "metadata": {
        "id": "CwnROfI2Ii3M"
      },
      "source": [
        "wordcounts1 = lines.map(lambda x: x.replace(',',' ').replace('.',' ').replace('-',' ').lower())\n",
        "wordcounts1top = wordcounts1.transform(lambda rdd: rdd.take(10))\n",
        "wordcounts1top.pprint()"
      ],
      "execution_count": 12,
      "outputs": []
    },
    {
      "cell_type": "markdown",
      "metadata": {
        "id": "o8KzRpNjIi3M"
      },
      "source": [
        "The flatMap function takes these input values and returns a new, flattened list. In this case, the lines are split into words and then each word becomes a separate value in the output RDD:"
      ]
    },
    {
      "cell_type": "code",
      "metadata": {
        "id": "CcsPYE1fIi3M"
      },
      "source": [
        "wordcounts2 = wordcounts1.flatMap(lambda x: x.split())\n",
        "wordcounts2top = wordcounts2.transform(lambda rdd: rdd.take(10))\n",
        "wordcounts2.pprint()"
      ],
      "execution_count": 13,
      "outputs": []
    },
    {
      "cell_type": "markdown",
      "metadata": {
        "id": "SvYT26sZIi3N"
      },
      "source": [
        "Expect that the input RDD contains tuples of the form (key,value). Create a new RDD containing a tuple for each unique value of key in the input, where the value in the second position of the tuple is created by  applying the supplied lambda function to the values with the matching key in the input RDD Here the key will be the word and lambda function will sum up the word counts for each word. The output RDD  will consist of a single tuple for each unique word in the data, where the word is stored at the first position  in the tuple and the word count is stored at the second position"
      ]
    },
    {
      "cell_type": "code",
      "metadata": {
        "id": "vYTYFun3Ii3N"
      },
      "source": [
        "wordcounts3 = wordcounts2.map(lambda x: (x, 1))\n",
        "wordcounts3top = wordcounts3.transform(lambda rdd: rdd.take(20))\n",
        "wordcounts3.pprint()"
      ],
      "execution_count": 15,
      "outputs": []
    },
    {
      "cell_type": "code",
      "metadata": {
        "id": "55V6PwsPIi3N"
      },
      "source": [
        "wordcounts4 = wordcounts3.reduceByKey(lambda x,y:x+y)\n",
        "wordcounts4top = wordcounts4.transform(lambda rdd: rdd.take(20))\n",
        "wordcounts4.pprint()"
      ],
      "execution_count": 16,
      "outputs": []
    },
    {
      "cell_type": "markdown",
      "metadata": {
        "id": "PwZHmU6nIi3N"
      },
      "source": [
        "map a lambda function to the data which will swap over the first and second values in each tuple, now the word count appears in the first position and the word in the second position"
      ]
    },
    {
      "cell_type": "code",
      "metadata": {
        "id": "3qsfVdT7Ii3N"
      },
      "source": [
        "wordcounts5 = wordcounts4.map(lambda x:(x[1],x[0]))\n",
        "wordcounts5top = wordcounts5.transform(lambda rdd: rdd.take(20))\n",
        "wordcounts5.pprint()"
      ],
      "execution_count": 17,
      "outputs": []
    },
    {
      "cell_type": "markdown",
      "metadata": {
        "id": "sgvt1dE2Ii3O"
      },
      "source": [
        "we sort the input RDD by the key value (i.e., the value at the first position in each tuple). In this example the first position stores the word count so this will sort the words so that the most frequently occurring words occur first in the RDD. The ascending=False parameter results in a descending sort order"
      ]
    },
    {
      "cell_type": "code",
      "metadata": {
        "id": "bKI-BEfwIi3O"
      },
      "source": [
        "#wordcounts6 = wordcounts5.sortByKey(ascending=False)\n",
        "#wordcounts6top = wordcounts6.transform(lambda rdd: rdd.take(20))\n",
        "#wordcounts6.pprint()"
      ],
      "execution_count": 37,
      "outputs": []
    },
    {
      "cell_type": "markdown",
      "metadata": {
        "id": "EeYD0ZerIi3O"
      },
      "source": [
        "# References\n",
        "1. https://spark.apache.org/docs/latest/streaming-programming-guide.html#transformations-on-dstreams\n"
      ]
    },
    {
      "cell_type": "markdown",
      "metadata": {
        "id": "fw6dBjq4Ii3O"
      },
      "source": [
        " "
      ]
    }
  ]
}